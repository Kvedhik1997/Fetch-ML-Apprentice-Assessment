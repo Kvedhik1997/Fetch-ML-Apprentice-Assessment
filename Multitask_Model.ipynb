{
 "cells": [
  {
   "cell_type": "code",
   "execution_count": 1,
   "id": "985d0d28-4bd6-4515-9207-faf4efe9b1b8",
   "metadata": {
    "tags": []
   },
   "outputs": [],
   "source": [
    "import torch\n",
    "from torch import nn\n",
    "from transformers import DistilBertModel, DistilBertTokenizer"
   ]
  },
  {
   "cell_type": "code",
   "execution_count": 2,
   "id": "8adc878a-6934-44af-811e-27bdaf704a6f",
   "metadata": {
    "tags": []
   },
   "outputs": [],
   "source": [
    "# Multi-Task Model\n",
    "class MultiTaskSentenceTransformer(nn.Module):\n",
    "    def __init__(self, model_name=\"distilbert-base-uncased\", num_classes_task_a=3, num_classes_task_b=4):\n",
    "        super(MultiTaskSentenceTransformer, self).__init__()\n",
    "        # Load the pre-trained transformer model and tokenizer\n",
    "        self.tokenizer = DistilBertTokenizer.from_pretrained(model_name)\n",
    "        self.model = DistilBertModel.from_pretrained(model_name)\n",
    "        \n",
    "        # Task A: Sentence Classification (Positive, Negative, Neutral)\n",
    "        self.task_a_classifier = nn.Linear(self.model.config.hidden_size, num_classes_task_a)\n",
    "        \n",
    "        # Task B: Sentiment Analysis (Happy, Sad, Angry, Neutral)\n",
    "        self.task_b_classifier = nn.Linear(self.model.config.hidden_size, num_classes_task_b)\n",
    "        \n",
    "    def forward(self, sentences):\n",
    "        # Tokenize the sentences\n",
    "        inputs = self.tokenizer(sentences, padding=True, truncation=True, return_tensors=\"pt\")\n",
    "        \n",
    "        # Forward pass through the transformer model\n",
    "        outputs = self.model(**inputs)\n",
    "        \n",
    "        # Extract the last hidden state (token embeddings)\n",
    "        token_embeddings = outputs.last_hidden_state \n",
    "        \n",
    "        # Apply mean pooling\n",
    "        attention_mask = inputs[\"attention_mask\"]\n",
    "        masked_token_embeddings = token_embeddings * attention_mask.unsqueeze(-1)\n",
    "        sentence_embeddings = masked_token_embeddings.sum(dim=1) / attention_mask.sum(dim=1, keepdim=True)\n",
    "        \n",
    "        # Task A: Sentence Classification\n",
    "        task_a_output = self.task_a_classifier(sentence_embeddings)\n",
    "        \n",
    "        # Task B: Sentiment Analysis\n",
    "        task_b_output = self.task_b_classifier(sentence_embeddings)\n",
    "        \n",
    "        return task_a_output, task_b_output"
   ]
  },
  {
   "cell_type": "code",
   "execution_count": 3,
   "id": "3473dfa4-4316-4405-a325-476e3bf0b751",
   "metadata": {
    "tags": []
   },
   "outputs": [],
   "source": [
    "model = MultiTaskSentenceTransformer(model_name=\"distilbert-base-uncased\", num_classes_task_a=3, num_classes_task_b=4)"
   ]
  },
  {
   "cell_type": "markdown",
   "id": "dffb0f4f-0f32-4cc0-a175-04c4da5f0113",
   "metadata": {},
   "source": [
    "This model utilizes a similar architecture with the distilbert-base-uncased backbone; however each task has its own output layer. This allows the model to learn task specific patterns while having the shared representation of the distilbert-base-uncased backbone. "
   ]
  }
 ],
 "metadata": {
  "kernelspec": {
   "display_name": "Python 3 (ipykernel)",
   "language": "python",
   "name": "python3"
  },
  "language_info": {
   "codemirror_mode": {
    "name": "ipython",
    "version": 3
   },
   "file_extension": ".py",
   "mimetype": "text/x-python",
   "name": "python",
   "nbconvert_exporter": "python",
   "pygments_lexer": "ipython3",
   "version": "3.11.5"
  }
 },
 "nbformat": 4,
 "nbformat_minor": 5
}
